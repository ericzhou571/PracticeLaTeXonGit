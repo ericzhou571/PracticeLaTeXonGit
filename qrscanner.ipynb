{
 "nbformat": 4,
 "nbformat_minor": 2,
 "metadata": {
  "language_info": {
   "name": "python",
   "codemirror_mode": {
    "name": "ipython",
    "version": 3
   },
   "version": "3.7.4-final"
  },
  "orig_nbformat": 2,
  "file_extension": ".py",
  "mimetype": "text/x-python",
  "name": "python",
  "npconvert_exporter": "python",
  "pygments_lexer": "ipython3",
  "version": 3,
  "kernelspec": {
   "name": "python361064bitpytorchenvcondaff9b78431a914ffba297071f3354fd46",
   "display_name": "Python 3.6.10 64-bit ('pytorchenv': conda)"
  }
 },
 "cells": [
  {
   "cell_type": "code",
   "execution_count": 1,
   "metadata": {},
   "outputs": [],
   "source": [
    "from __future__ import print_function\n",
    "import cv2\n",
    "import numpy as np"
   ]
  },
  {
   "cell_type": "code",
   "execution_count": 1,
   "metadata": {},
   "outputs": [
    {
     "output_type": "error",
     "ename": "IndentationError",
     "evalue": "expected an indented block (<ipython-input-1-6037767f734f>, line 5)",
     "traceback": [
      "\u001b[0;36m  File \u001b[0;32m\"<ipython-input-1-6037767f734f>\"\u001b[0;36m, line \u001b[0;32m5\u001b[0m\n\u001b[0;31m    def display(im, decodedObjects):\u001b[0m\n\u001b[0m      ^\u001b[0m\n\u001b[0;31mIndentationError\u001b[0m\u001b[0;31m:\u001b[0m expected an indented block\n"
     ]
    }
   ],
   "source": [
    "\n",
    "\n",
    " \n",
    "def decode(im) :\n",
    "    #can read many qr code time in a image in the same times ,every obj in decodedObjects is a qr co\n",
    "\n",
    "# Display barcode and QR code location \n",
    "def display(im, decodedObjects):\n",
    " \n",
    "  # Loop over all decoded objects\n",
    "  for decodedObject in decodedObjects:\n",
    "    points = decodedObject.polygon\n",
    " \n",
    "     \n",
    "32\n",
    "    # Number of points in the convex hull\n",
    "33\n",
    "    n = len(hull)\n",
    "34\n",
    " \n",
    "35\n",
    "    # Draw the convext hull\n",
    "36\n",
    "    for j in range(0,n):\n",
    "37\n",
    "      cv2.line(im, hull[j], hull[ (j+1) % n], (255,0,0), 3)\n",
    "38\n",
    " \n",
    "39\n",
    "  # Display results\n",
    "40\n",
    "  cv2.imshow(\"Results\", im);\n",
    "41\n",
    "  cv2.waitKey(0);\n",
    "42\n",
    " \n",
    "43\n",
    "   \n",
    "44\n",
    "# Main\n",
    "45\n",
    "if __name__ == '__main__':\n",
    "46\n",
    " \n",
    "47\n",
    "  # Read image\n",
    "48\n",
    "  im = cv2.imread('zbar-test.jpg')\n",
    "49\n",
    " \n",
    "50\n",
    "  decodedObjects = decode(im)\n",
    "51\n",
    "  display(im, decodedObjects)\n"
   ]
  },
  {
   "cell_type": "code",
   "execution_count": null,
   "metadata": {},
   "outputs": [],
   "source": []
  }
 ]
}