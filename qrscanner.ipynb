{
 "nbformat": 4,
 "nbformat_minor": 2,
 "metadata": {
  "language_info": {
   "name": "python",
   "codemirror_mode": {
    "name": "ipython",
    "version": 3
   },
   "version": "3.6.10-final"
  },
  "orig_nbformat": 2,
  "file_extension": ".py",
  "mimetype": "text/x-python",
  "name": "python",
  "npconvert_exporter": "python",
  "pygments_lexer": "ipython3",
  "version": 3,
  "kernelspec": {
   "name": "python361064bitpytorchenvcondaff9b78431a914ffba297071f3354fd46",
   "display_name": "Python 3.6.10 64-bit ('pytorchenv': conda)"
  }
 },
 "cells": [
  {
   "cell_type": "code",
   "execution_count": 1,
   "metadata": {},
   "outputs": [],
   "source": [
    "from __future__ import print_function\n",
    "from pyzbar import pyzbar\n",
    "import cv2\n",
    "import numpy as np"
   ]
  },
  {
   "cell_type": "code",
   "execution_count": 2,
   "metadata": {},
   "outputs": [
    {
     "output_type": "stream",
     "name": "stderr",
     "text": "usage: ipykernel_launcher.py [-h] -i IMAGE\nipykernel_launcher.py: error: the following arguments are required: -i/--image\n"
    },
    {
     "output_type": "error",
     "ename": "SystemExit",
     "evalue": "2",
     "traceback": [
      "An exception has occurred, use %tb to see the full traceback.\n",
      "\u001b[0;31mSystemExit\u001b[0m\u001b[0;31m:\u001b[0m 2\n"
     ]
    }
   ],
   "source": [
    "\n",
    "\n",
    " \n",
    "def decode(im) :\n",
    "    #can read many qr code time in a image in the same times ,every obj in decodedObjects is a qr code \n",
    "  # Find barcodes and QR codes\n",
    "  decodedObjects = pyzbar.decode(im)\n",
    "\n",
    "  # Print results\n",
    "  for obj in decodedObjects:\n",
    "    print('Type : ', obj.type)\n",
    "    print('Data : ', obj.data,'\\n')\n",
    "     \n",
    "  return decodedObjects\n",
    "\n",
    "# Display barcode and QR code location \n",
    "def display(im, decodedObjects):\n",
    " \n",
    "  # Loop over all decoded objects\n",
    "  for decodedObject in decodedObjects:\n",
    "    points = decodedObject.polygon\n",
    " \n",
    "25\n",
    "    # If the points do not form a quad, find convex hull\n",
    "26\n",
    "    if len(points) > 4 :\n",
    "27\n",
    "      hull = cv2.convexHull(np.array([point for point in points], dtype=np.float32))\n",
    "28\n",
    "      hull = list(map(tuple, np.squeeze(hull)))\n",
    "29\n",
    "    else :\n",
    "30\n",
    "      hull = points;\n",
    "31\n",
    "     \n",
    "32\n",
    "    # Number of points in the convex hull\n",
    "33\n",
    "    n = len(hull)\n",
    "34\n",
    " \n",
    "35\n",
    "    # Draw the convext hull\n",
    "36\n",
    "    for j in range(0,n):\n",
    "37\n",
    "      cv2.line(im, hull[j], hull[ (j+1) % n], (255,0,0), 3)\n",
    "38\n",
    " \n",
    "39\n",
    "  # Display results\n",
    "40\n",
    "  cv2.imshow(\"Results\", im);\n",
    "41\n",
    "  cv2.waitKey(0);\n",
    "42\n",
    " \n",
    "43\n",
    "   \n",
    "44\n",
    "# Main\n",
    "45\n",
    "if __name__ == '__main__':\n",
    "46\n",
    " \n",
    "47\n",
    "  # Read image\n",
    "48\n",
    "  im = cv2.imread('zbar-test.jpg')\n",
    "49\n",
    " \n",
    "50\n",
    "  decodedObjects = decode(im)\n",
    "51\n",
    "  display(im, decodedObjects)\n"
   ]
  },
  {
   "cell_type": "code",
   "execution_count": null,
   "metadata": {},
   "outputs": [],
   "source": []
  }
 ]
}